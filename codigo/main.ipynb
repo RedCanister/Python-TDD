{
 "cells": [
  {
   "cell_type": "code",
   "execution_count": 51,
   "metadata": {},
   "outputs": [],
   "source": [
    "from bytebank import Funcionario\n",
    "\n",
    "%run C:\\Users\\andma\\OneDrive\\Documentos\\Alura-Estudos\\Python\\Python_TDD\\codigo\\bytebank.py"
   ]
  },
  {
   "cell_type": "code",
   "execution_count": 52,
   "metadata": {},
   "outputs": [
    {
     "name": "stdout",
     "output_type": "stream",
     "text": [
      "25\n"
     ]
    }
   ],
   "source": [
    "jorge = Funcionario('Jorge Kayodê', \"16/04/1999\", 1000)\n",
    "\n",
    "print(jorge.idade())"
   ]
  },
  {
   "cell_type": "code",
   "execution_count": 54,
   "metadata": {},
   "outputs": [
    {
     "name": "stdout",
     "output_type": "stream",
     "text": [
      "Teste = 25\n",
      "Teste = 92\n",
      "Teste = 7\n"
     ]
    }
   ],
   "source": [
    "def teste_idade():\n",
    "    funcionario_teste = Funcionario('Teste', '16/04/1999', 1111)\n",
    "    print(f'Teste = {funcionario_teste.idade()}')\n",
    "\n",
    "    funcionario_teste1 = Funcionario('Teste', '29/12/1932', 1111)\n",
    "    print(f'Teste = {funcionario_teste1.idade()}')\n",
    "\n",
    "    funcionario_teste2 = Funcionario('Teste', '02/06/2017', 1111)\n",
    "    print(f'Teste = {funcionario_teste2.idade()}')\n",
    "\n",
    "teste_idade()"
   ]
  }
 ],
 "metadata": {
  "kernelspec": {
   "display_name": "venv",
   "language": "python",
   "name": "python3"
  },
  "language_info": {
   "codemirror_mode": {
    "name": "ipython",
    "version": 3
   },
   "file_extension": ".py",
   "mimetype": "text/x-python",
   "name": "python",
   "nbconvert_exporter": "python",
   "pygments_lexer": "ipython3",
   "version": "3.12.2"
  }
 },
 "nbformat": 4,
 "nbformat_minor": 2
}
